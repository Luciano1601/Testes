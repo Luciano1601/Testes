{
 "cells": [
  {
   "cell_type": "markdown",
   "metadata": {},
   "source": [
    "# Parado por enquanto\n",
    "#### foco geral nos cálculos a base de IA"
   ]
  },
  {
   "cell_type": "markdown",
   "metadata": {},
   "source": [
    "# Criando a lista com todos os bancos criados até o momento\n",
    "### Módulo requer acompanhamento constante"
   ]
  },
  {
   "cell_type": "code",
   "execution_count": 1,
   "metadata": {},
   "outputs": [],
   "source": [
    "lista_bancos = ['TESTE','LOTOMANIA','LOTOMANIA1','LOTOMANIA1_1','LOTOMANIA1_2','LOTOMANIA1_2','LOTOMANIA1_3','LOTOMANIA1_4',\n",
    "                'LOTOMANIA1_5','LOTOMANIA1_6','LOTOMANIA1_7','LOTOMANIA1_8','LOTOMANIA1_9','LOTOMANIA1_10',\n",
    "                'LOTOMANIA1_11','LOTOMANIA1_12','LOTOMANIA1_13','LOTOMANIA1_14','LOTOMANIA1_15'\n",
    "                ,'LOTOMANIA16','LOTOMANIA17','LOTOMANIA18','LOTOMANIA19','LOTOMANIA20','LOTOMANIA21',\n",
    "                'LOTOMANIA22','LOTOMANIA23','LOTOMANIA24','LOTOMANIA25','LOTOMANIA26','LOTOMANIA27','LOTOMANIA28'\n",
    "               ,'LOTOMANIA29','LOTOMANIA30','LOTOMANIA31','LOTOMANIA32','LOTOMANIA33','LOTOMANIA34','LOTOMANIA35'\n",
    "                ,'LOTOMANIA36','LOTOMANIA37','LOTOMANIA38','LOTOMANIA39','LOTOMANIA40','LOTOMANIA41'\n",
    "                ,'LOTOMANIA42','LOTOMANIA43','LOTOMANIA44','LOTOMANIA45','LOTOMANIA46','LOTOMANIA47'\n",
    "                ,'LOTOMANIA48','LOTOMANIA49','LOTOMANIA50','LOTOMANIA51','LOTOMANIA52','LOTOMANIA53'\n",
    "                ,'LOTOMANIA54','LOTOMANIA55','LOTOMANIA56','LOTOMANIA57','LOTOMANIA58','LOTOMANIA59'\n",
    "                ,'LOTOMANIA60','LOTOMANIA61','LOTOMANIA62','LOTOMANIA63','LOTOMANIA64','LOTOMANIA65'\n",
    "                ,'LOTOMANIA66','LOTOMANIA67','LOTOMANIA150'\n",
    "               ,'LOTOMANIA151','LOTOMANIA152','LOTOMANIA153','LOTOMANIA154','LOTOMANIA155','LOTOMANIA156'\n",
    "               ,'LOTOMANIA157','LOTOMANIA158','LOTOMANIA159','LOTOMANIA160','LOTOMANIA161','LOTOMANIA162'\n",
    "                ,'LOTOMANIA163','LOTOMANIA164','LOTOMANIA165','LOTOMANIA166','LOTOMANIA167','LOTOMANIA168'\n",
    "               ,'LOTOMANIA169','LOTOMANIA170','LOTOMANIA171','LOTOMANIA172','LOTOMANIA173','LOTOMANIA174'\n",
    "                ,'LOTOMANIA175','LOTOMANIA176','LOTOMANIA177','LOTOMANIA178','LOTOMANIA179','LOTOMANIA180'\n",
    "                ,'LOTOMANIA181','LOTOMANIA182','LOTOMANIA183','LOTOMANIA184','LOTOMANIA185','LOTOMANIA186'\n",
    "               ,'LOTOMANIA300','LOTOMANIA301','LOTOMANIA302','LOTOMANIA303','LOTOMANIA304','LOTOMANIA305'\n",
    "                ,'LOTOMANIA306','LOTOMANIA307','LOTOMANIA308','LOTOMANIA309','LOTOMANIA310','LOTOMANIA311'\n",
    "                ,'LOTOMANIA312','LOTOMANIA313','LOTOMANIA314','LOTOMANIA315','LOTOMANIA316','LOTOMANIA317'\n",
    "                ,'LOTOMANIA318','LOTOMANIA319','LOTOMANIA320','LOTOMANIA321','LOTOMANIA322','LOTOMANIA323'\n",
    "                ,'LOTOMANIA324','LOTOMANIA325','LOTOMANIA326','LOTOMANIA327','LOTOMANIA328','LOTOMANIA329'\n",
    "                ,'LOTOMANIA330','LOTOMANIA331','LOTOMANIA332','LOTOMANIA333','LOTOMANIA334','LOTOMANIA335'\n",
    "               ,'LOTOMANIA336','LOTOMANIA361','LOTOMANIA362','LOTOMANIA363','LOTOMANIA364','LOTOMANIA365'\n",
    "                ,'LOTOMANIA366','LOTOMANIA367','LOTOMANIA368','LOTOMANIA369','LOTOMANIA370','LOTOMANIA371'\n",
    "                ,'LOTOMANIA372','LOTOMANIA373','LOTOMANIA374','LOTOMANIA375','LOTOMANIA376','LOTOMANIA377'\n",
    "                ,'LOTOMANIA378','LOTOMANIA379','LOTOMANIA380','LOTOMANIA381','LOTOMANIA382','LOTOMANIA384'\n",
    "                ,'LOTOMANIA385','LOTOMANIA386','LOTOMANIA387','LOTOMANIA388','LOTOMANIA389','LOTOMANIA390'\n",
    "                ,'LOTOMANIA391','LOTOMANIA392','LOTOMANIA393','LOTOMANIA394','LOTOMANIA395','LOTOMANIA396'\n",
    "                ,'LOTOMANIA397','LOTOMANIA398','LOTOMANIA399'\n",
    "                ,'LOTOMANIA420','LOTOMANIA421','LOTOMANIA422','LOTOMANIA423','LOTOMANIA424'\n",
    "                ,'LOTOMANIA425','LOTOMANIA426','LOTOMANIA427','LOTOMANIA429','LOTOMANIA429','LOTOMANIA430'\n",
    "                ,'LOTOMANIA431','LOTOMANIA432','LOTOMANIA433','LOTOMANIA434','LOTOMANIA435'\n",
    "                ,'LOTOMANIA440','LOTOMANIA441','LOTOMANIA442','LOTOMANIA443','LOTOMANIA444','LOTOMANIA445'\n",
    "                ,'LOTOMANIA446','LOTOMANIA447','LOTOMANIA448','LOTOMANIA449','LOTOMANIA450','LOTOMANIA451'\n",
    "                ,'LOTOMANIA452','LOTOMANIA453','LOTOMANIA454','LOTOMANIA455']"
   ]
  },
  {
   "cell_type": "code",
   "execution_count": 2,
   "metadata": {},
   "outputs": [
    {
     "name": "stdout",
     "output_type": "stream",
     "text": [
      "LOTOMANIA397\n",
      "215\n"
     ]
    }
   ],
   "source": [
    "print(lista_bancos[180])\n",
    "print(len(lista_bancos))"
   ]
  },
  {
   "cell_type": "markdown",
   "metadata": {},
   "source": [
    "# Conexão com os bancos de dados\n",
    "### Módulo finalizado"
   ]
  },
  {
   "cell_type": "code",
   "execution_count": 11,
   "metadata": {},
   "outputs": [
    {
     "name": "stdout",
     "output_type": "stream",
     "text": [
      "foi\n"
     ]
    }
   ],
   "source": [
    "#def Conexao_sql():\n",
    "import pyodbc\n",
    "import pandas as pd\n",
    "server = 'DESKTOP-BAGV6SU\\SQLEXPRESS01' \n",
    "database = 'TESTE' \n",
    "username = '' \n",
    "password = '' \n",
    "cnxn = pyodbc.connect('DRIVER={SQL Server};SERVER='+server+';DATABASE='+database+';UID='+username+';PWD='+ password)\n",
    "cursor = cnxn.cursor()\n",
    "print(\"foi\")"
   ]
  },
  {
   "cell_type": "markdown",
   "metadata": {},
   "source": [
    "# Busca dos dados na Web com Selenium\n",
    "### Módulo finalizado"
   ]
  },
  {
   "cell_type": "code",
   "execution_count": 2,
   "metadata": {},
   "outputs": [],
   "source": [
    "# importação\n",
    "import time\n",
    "from selenium import webdriver\n",
    "#argumento de ocultação\n",
    "    #chrome_options = webdriver.ChromeOpitions()\n",
    "    #chrome_options.add_argument('headless')\n",
    "# driver de funcionamento do navegador\n",
    "driver = webdriver.Chrome()\n",
    "# nome do site\n",
    "driver.get(\"http://loterias.caixa.gov.br/wps/portal/loterias/landing/lotomania/\")\n",
    "# print(driver.title)\n",
    "sorteado = []\n",
    "i = 1\n",
    "concurso = driver.find_element_by_xpath('//*[@id=\"conteudoresultado\"]/div[1]/div/h2/span').text\n",
    "concurso = (concurso[:8] + \"_\" + concurso[9:13] + \"_\" + concurso[15:17] + '_' + concurso[18:20] + '_' + concurso[21:25])\n",
    "xpath = '//*[@id=\"conteudoresultado\"]/div[2]/div/div/div[1]/ul/li[{numero}]'\n",
    "for i in range(20):\n",
    "    num_resultado = driver.find_element_by_xpath(xpath.format(numero = i + 1))\n",
    "    numero = num_resultado.text\n",
    "    numero = int(numero)\n",
    "    sorteado.append(numero)"
   ]
  },
  {
   "cell_type": "markdown",
   "metadata": {},
   "source": [
    "# Inserindo o ultimo resultado na base de dados\n",
    "### Modulo finalizado"
   ]
  },
  {
   "cell_type": "code",
   "execution_count": 39,
   "metadata": {},
   "outputs": [
    {
     "data": {
      "text/plain": [
       "<pyodbc.Cursor at 0x24aeb0be830>"
      ]
     },
     "execution_count": 39,
     "metadata": {},
     "output_type": "execute_result"
    }
   ],
   "source": [
    "def Insere_Resultado_Recente():  \n",
    "    i = 0\n",
    "    for i in range(len(lista_bancos)):\n",
    "        cursor = cnxn.cursor()\n",
    "        cursor.execute(f'use {lista_bancos[i]}')\n",
    "        cursor.execute(f'''INSERT INTO RESULTADOS_ANTERIORES$ (NUMERO1,NUMERO2,NUMERO3,NUMERO4,NUMERO5,\n",
    "        NUMERO6,NUMERO7,NUMERO8,NUMERO9,NUMERO10,NUMERO11,NUMERO12,NUMERO13,NUMERO14,NUMERO15,NUMERO16,\n",
    "        NUMERO17,NUMERO18,NUMERO19,NUMERO20) values ({sorteado[0]},{sorteado[1]},{sorteado[2]},\n",
    "        {sorteado[3]},{sorteado[4]},{sorteado[5]},{sorteado[6]},{sorteado[7]},{sorteado[8]},\n",
    "        {sorteado[9]},{sorteado[10]},{sorteado[11]},{sorteado[12]},{sorteado[13]},{sorteado[14]},\n",
    "        {sorteado[15]},{sorteado[16]},{sorteado[17]},{sorteado[18]},{sorteado[19]})''')\n",
    "        cnxn.commit()\n",
    "        cursor.close()\n"
   ]
  },
  {
   "cell_type": "markdown",
   "metadata": {},
   "source": [
    "# Testando os bancos com bons resultados  de análise \n",
    "### Em andamento"
   ]
  },
  {
   "cell_type": "code",
   "execution_count": 12,
   "metadata": {
    "scrolled": true
   },
   "outputs": [
    {
     "name": "stdout",
     "output_type": "stream",
     "text": [
      "[{0: 1, 1: 2}, {0: 9, 1: 17}, {0: 16, 1: 206}, {0: 16, 1: 206}]\n"
     ]
    }
   ],
   "source": [
    "from collections import OrderedDict\n",
    "import pyautogui \n",
    "import time\n",
    "pyautogui.PAUSE = 1\n",
    "pyautogui.press('winleft') \n",
    "pyautogui.write('MICROSOFT SQL') \n",
    "pyautogui.press('enter') \n",
    "time.sleep(30)\n",
    "pyautogui.press('enter')\n",
    "pyautogui.moveTo(285,67) \n",
    "pyautogui.click()\n",
    "time.sleep(0.2)\n",
    "pyautogui.write('USE TESTE EXECUTE JOGOS_FINAIS') \n",
    "time.sleep(1)\n",
    "pyautogui.press('f5') \n",
    "pontos_bancos = pd.read_sql('SELECT * FROM MENORES_JOGOS', cnxn)\n",
    "pontos_bancos = pontos_bancos.to_dict()\n",
    "pontos_bancos = list(pontos_bancos.values())\n",
    "jogo1 = pontos_bancos[1][0]\n",
    "jogo2 = pontos_bancos[2][0]\n",
    "jogo3 = pontos_bancos[3][0]\n",
    "qt_jogo1 = pontos_bancos[1][1]\n",
    "qt_jogo2 = pontos_bancos[2][1]\n",
    "qt_jogo3 = pontos_bancos[3][1]\n",
    "\n",
    "bancos_testaveis1 = pd.read_sql(f'SELECT ID_QUANTIDADE_JOGOS FROM PONTUACAO_BANCOS WHERE JOGO1 = {jogo1}',cnxn)\n",
    "bancos_testaveis1 = bancos_testaveis1.to_dict()\n",
    "bancos_testaveis1 = list(bancos_testaveis1.values())\n",
    "\n",
    "i = 0\n",
    "bancos_finais = []\n",
    "for i in range(qt_jogo1):\n",
    "    bancos_finais.append(bancos_testaveis1[0][i])\n",
    "    \n",
    "bancos_testaveis2 = pd.read_sql(f'SELECT ID_QUANTIDADE_JOGOS FROM PONTUACAO_BANCOS WHERE JOGO2 = {jogo2}',cnxn)\n",
    "bancos_testaveis2 = bancos_testaveis2.to_dict()\n",
    "bancos_testaveis2= list(bancos_testaveis2.values())\n",
    "\n",
    "i = 0\n",
    "for i in range(qt_jogo2):\n",
    "    bancos_finais.append(bancos_testaveis2[0][i])\n",
    "    \n",
    "bancos_testaveis3 = pd.read_sql(f'SELECT ID_QUANTIDADE_JOGOS FROM PONTUACAO_BANCOS WHERE JOGO3 = {jogo3}',cnxn)\n",
    "bancos_testaveis3 = bancos_testaveis3.to_dict()\n",
    "bancos_testaveis3 = list(bancos_testaveis3.values())\n",
    "\n",
    "i = 0\n",
    "for i in range(qt_jogo3):\n",
    "    bancos_finais.append(bancos_testaveis3[0][i])\n",
    "\n",
    "\n",
    "\n",
    "def remove_repetidos(li):\n",
    "    return sorted(OrderedDict((i, None) for i in li))\n",
    "\n",
    "bancos_finais = remove_repetidos(bancos_finais)"
   ]
  },
  {
   "cell_type": "code",
   "execution_count": 60,
   "metadata": {},
   "outputs": [
    {
     "name": "stdout",
     "output_type": "stream",
     "text": [
      "LOTOMANIA1_5\n"
     ]
    }
   ],
   "source": [
    "# só criar o for\n",
    "nome = pd.read_sql(f'SELECT NOME FROM PONTUACAO_BANCOS WHERE ID_QUANTIDADE_JOGOS = {bancos_finais[7]}',cnxn)\n",
    "nome = nome.to_dict()\n",
    "nome= list(nome.values())\n",
    "print(nome[0][0])"
   ]
  },
  {
   "cell_type": "markdown",
   "metadata": {},
   "source": [
    "# Funcionamento automático da data\n"
   ]
  },
  {
   "cell_type": "code",
   "execution_count": null,
   "metadata": {},
   "outputs": [],
   "source": []
  },
  {
   "cell_type": "markdown",
   "metadata": {},
   "source": [
    "# Inserindo todos os resultados de jogos zerados no banco TESTE\n",
    "### Módulo pronto para testes"
   ]
  },
  {
   "cell_type": "code",
   "execution_count": 55,
   "metadata": {},
   "outputs": [],
   "source": [
    "bancos = 0\n",
    "for bancos in range(len(lista_bancos)):\n",
    "    cursor = cnxn.cursor()\n",
    "    cursor.execute(f'use {lista_bancos[bancos]}')\n",
    "    zerados = pd.read_sql('SELECT * FROM ZERADOS', cnxn)\n",
    "    tamanho = pd.read_sql('SELECT MAX(ID_RESULTADO) FROM ZERADOS',cnxn)\n",
    "    tamanho = tamanho.to_dict()\n",
    "    tamanho = list(tamanho.values())\n",
    "    tamanho = tamanho[0][0]\n",
    "    zerados = zerados.to_dict()\n",
    "    zerados = list(zerados.values())\n",
    "    cnxn.commit()\n",
    "    cursor.close()\n",
    "    cursor = cnxn.cursor()\n",
    "    cursor.execute(f'use TESTE')\n",
    "    for i in range(tamanho):\n",
    "        cursor.execute(f'''INSERT INTO ZERADOS (NUMERO1,NUMERO2,NUMERO3,NUMERO4,NUMERO5,NUMERO6,\n",
    "        NUMERO7,NUMERO8,NUMERO9,NUMERO10,NUMERO11,NUMERO12,NUMERO13,NUMERO14,NUMERO15,NUMERO16,\n",
    "        NUMERO17,NUMERO18,NUMERO19,NUMERO20,NUMERO21,NUMERO22,NUMERO23,NUMERO24,NUMERO25,NUMERO26,\n",
    "        NUMERO27,NUMERO28,NUMERO29,NUMERO30,NUMERO31,NUMERO32,NUMERO33,NUMERO34,NUMERO35,NUMERO36,\n",
    "        NUMERO37,NUMERO38,NUMERO39,NUMERO40,NUMERO41,NUMERO42,NUMERO43,NUMERO44,NUMERO45,NUMERO46,\n",
    "        NUMERO47,NUMERO48,NUMERO49,NUMERO50) values({zerados[0][i]},{zerados[1][i]},{zerados[2][i]},\n",
    "        {zerados[3][i]},{zerados[4][i]},{zerados[5][i]},{zerados[6][i]},{zerados[7][i]},{zerados[8][i]},\n",
    "        {zerados[9][i]},\n",
    "        {zerados[10][i]},{zerados[11][i]},{zerados[12][i]},{zerados[13][i]},{zerados[14][i]},{zerados[15][i]},\n",
    "        {zerados[16][i]},{zerados[17][i]},{zerados[18][i]},{zerados[19][i]},{zerados[20][i]},{zerados[21][i]},\n",
    "        {zerados[22][i]},{zerados[23][i]},{zerados[24][i]},{zerados[25][i]},{zerados[26][i]},{zerados[27][i]},\n",
    "        {zerados[28][i]},{zerados[29][i]},{zerados[30][i]},{zerados[31][i]},{zerados[32][i]},{zerados[33][i]},\n",
    "        {zerados[34][i]},{zerados[35][i]},{zerados[36][i]},{zerados[37][i]},{zerados[38][i]},{zerados[39][i]},\n",
    "        {zerados[40][i]},{zerados[41][i]},{zerados[42][i]},{zerados[43][i]},{zerados[44][i]},{zerados[45][i]},\n",
    "        {zerados[46][i]},{zerados[47][i]},{zerados[48][i]},{zerados[49][i]})''')\n",
    "    cnxn.commit()\n",
    "    cursor.close()"
   ]
  },
  {
   "cell_type": "markdown",
   "metadata": {},
   "source": [
    "# Criando um banco novo para cada concurso\n",
    "### Módulo finalizado - Requer testes pós termino"
   ]
  },
  {
   "cell_type": "code",
   "execution_count": 3,
   "metadata": {},
   "outputs": [
    {
     "name": "stdout",
     "output_type": "stream",
     "text": [
      "foi\n"
     ]
    }
   ],
   "source": [
    "from tqdm import tqdm\n",
    "cursor.execute(f'use TESTE')\n",
    "zerados = pd.read_sql('SELECT * FROM ZERADOS', cnxn)\n",
    "tamanho = pd.read_sql('SELECT MAX(ID_RESULTADO) FROM ZERADOS',cnxn)\n",
    "tamanho = tamanho.to_dict()\n",
    "tamanho = list(tamanho.values())\n",
    "tamanho = tamanho[0][0]\n",
    "zerados = zerados.to_dict()\n",
    "zerados = list(zerados.values())\n",
    "cnxn.commit()\n",
    "cursor.close()\n",
    "\n",
    "cursor = cnxn.cursor()\n",
    "cursor.execute(f'CREATE DATABASE {concurso}')\n",
    "cnxn.commit()\n",
    "cursor.close()\n",
    "\n",
    "cursor = cnxn.cursor()\n",
    "cursor.execute(f'use {concurso}')\n",
    "cnxn.commit()\n",
    "cursor.close()\n",
    "\n",
    "cursor = cnxn.cursor()\n",
    "cursor.execute(f'''CREATE TABLE ZERADOS(\n",
    "  NUMERO1 TINYINT NOT NULL,\n",
    "  NUMERO2 TINYINT NOT NULL,\n",
    "  NUMERO3 TINYINT NOT NULL,\n",
    "  NUMERO4 TINYINT NOT NULL,\n",
    "  NUMERO5 TINYINT NOT NULL,\n",
    "  NUMERO6 TINYINT NOT NULL,\n",
    "  NUMERO7 TINYINT NOT NULL,\n",
    "  NUMERO8 TINYINT NOT NULL,\n",
    "  NUMERO9 TINYINT NOT NULL,\n",
    "  NUMERO10 TINYINT NOT NULL,\n",
    "  NUMERO11 TINYINT NOT NULL,\n",
    "  NUMERO12 TINYINT NOT NULL,\n",
    "  NUMERO13 TINYINT NOT NULL,\n",
    "  NUMERO14 TINYINT NOT NULL,\n",
    "  NUMERO15 TINYINT NOT NULL,\n",
    "  NUMERO16 TINYINT NOT NULL,\n",
    "  NUMERO17 TINYINT NOT NULL,\n",
    "  NUMERO18 TINYINT NOT NULL,\n",
    "  NUMERO19 TINYINT NOT NULL,\n",
    "  NUMERO20 TINYINT NOT NULL,\n",
    "  NUMERO21 TINYINT NOT NULL,\n",
    "  NUMERO22 TINYINT NOT NULL,\n",
    "  NUMERO23 TINYINT NOT NULL,\n",
    "  NUMERO24 TINYINT NOT NULL,\n",
    "  NUMERO25 TINYINT NOT NULL,\n",
    "  NUMERO26 TINYINT NOT NULL,\n",
    "  NUMERO27 TINYINT NOT NULL,\n",
    "  NUMERO28 TINYINT NOT NULL,\n",
    "  NUMERO29 TINYINT NOT NULL,\n",
    "  NUMERO30 TINYINT NOT NULL,\n",
    "  NUMERO31 TINYINT NOT NULL,\n",
    "  NUMERO32 TINYINT NOT NULL,\n",
    "  NUMERO33 TINYINT NOT NULL,\n",
    "  NUMERO34 TINYINT NOT NULL,\n",
    "  NUMERO35 TINYINT NOT NULL,\n",
    "  NUMERO36 TINYINT NOT NULL,\n",
    "  NUMERO37 TINYINT NOT NULL,\n",
    "  NUMERO38 TINYINT NOT NULL,\n",
    "  NUMERO39 TINYINT NOT NULL,\n",
    "  NUMERO40 TINYINT NOT NULL,\n",
    "  NUMERO41 TINYINT NOT NULL,\n",
    "  NUMERO42 TINYINT NOT NULL,\n",
    "  NUMERO43 TINYINT NOT NULL,\n",
    "  NUMERO44 TINYINT NOT NULL,\n",
    "  NUMERO45 TINYINT NOT NULL,\n",
    "  NUMERO46 TINYINT NOT NULL,\n",
    "  NUMERO47 TINYINT NOT NULL,\n",
    "  NUMERO48 TINYINT NOT NULL,\n",
    "  NUMERO49 TINYINT NOT NULL,\n",
    "  NUMERO50 TINYINT NOT NULL,\n",
    "  ID_RESULTADO INT IDENTITY PRIMARY KEY NOT NULL)''')\n",
    "cnxn.commit()\n",
    "cursor.close()\n",
    "\n",
    "cursor = cnxn.cursor()\n",
    "cursor.execute(f'use {concurso}')\n",
    "i = 0\n",
    "for i  in range(tamanho) :\n",
    "    cursor.execute(f'''INSERT INTO ZERADOS (NUMERO1,NUMERO2,NUMERO3,NUMERO4,NUMERO5,NUMERO6,\n",
    "    NUMERO7,NUMERO8,NUMERO9,NUMERO10,NUMERO11,NUMERO12,NUMERO13,NUMERO14,NUMERO15,NUMERO16,\n",
    "    NUMERO17,NUMERO18,NUMERO19,NUMERO20,NUMERO21,NUMERO22,NUMERO23,NUMERO24,NUMERO25,NUMERO26,\n",
    "    NUMERO27,NUMERO28,NUMERO29,NUMERO30,NUMERO31,NUMERO32,NUMERO33,NUMERO34,NUMERO35,NUMERO36,\n",
    "    NUMERO37,NUMERO38,NUMERO39,NUMERO40,NUMERO41,NUMERO42,NUMERO43,NUMERO44,NUMERO45,NUMERO46,\n",
    "    NUMERO47,NUMERO48,NUMERO49,NUMERO50) values({zerados[0][i]},{zerados[1][i]},{zerados[2][i]},\n",
    "    {zerados[3][i]},{zerados[4][i]},{zerados[5][i]},{zerados[6][i]},{zerados[7][i]},{zerados[8][i]},\n",
    "    {zerados[9][i]},\n",
    "    {zerados[10][i]},{zerados[11][i]},{zerados[12][i]},{zerados[13][i]},{zerados[14][i]},{zerados[15][i]},\n",
    "    {zerados[16][i]},{zerados[17][i]},{zerados[18][i]},{zerados[19][i]},{zerados[20][i]},{zerados[21][i]},\n",
    "    {zerados[22][i]},{zerados[23][i]},{zerados[24][i]},{zerados[25][i]},{zerados[26][i]},{zerados[27][i]},\n",
    "    {zerados[28][i]},{zerados[29][i]},{zerados[30][i]},{zerados[31][i]},{zerados[32][i]},{zerados[33][i]},\n",
    "    {zerados[34][i]},{zerados[35][i]},{zerados[36][i]},{zerados[37][i]},{zerados[38][i]},{zerados[39][i]},\n",
    "    {zerados[40][i]},{zerados[41][i]},{zerados[42][i]},{zerados[43][i]},{zerados[44][i]},{zerados[45][i]},\n",
    "    {zerados[46][i]},{zerados[47][i]},{zerados[48][i]},{zerados[49][i]})''')\n",
    "cnxn.commit()\n",
    "cursor.close()\n",
    "\n",
    "print('foi')"
   ]
  },
  {
   "cell_type": "code",
   "execution_count": null,
   "metadata": {},
   "outputs": [],
   "source": []
  }
 ],
 "metadata": {
  "kernelspec": {
   "display_name": "Python 3",
   "language": "python",
   "name": "python3"
  },
  "language_info": {
   "codemirror_mode": {
    "name": "ipython",
    "version": 3
   },
   "file_extension": ".py",
   "mimetype": "text/x-python",
   "name": "python",
   "nbconvert_exporter": "python",
   "pygments_lexer": "ipython3",
   "version": "3.8.5"
  }
 },
 "nbformat": 4,
 "nbformat_minor": 4
}
